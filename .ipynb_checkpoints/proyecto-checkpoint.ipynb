{
 "cells": [
  {
   "cell_type": "markdown",
   "id": "56ab196c",
   "metadata": {},
   "source": [
    "# <b><span style=\"color:#C21611;\">EXTRACCIÓN DE DATOS INMOBILIARIOS EN LIMA-PERÚ</span><b>"
   ]
  },
  {
   "cell_type": "markdown",
   "id": "cb5948a4",
   "metadata": {},
   "source": [
    "En el contexto dinámico del mercado inmobiliario en Lima, Perú, la búsqueda de información precisa y contextualizada se ha vuelto más crucial que nunca. Este proyecto, centrado en la \"Extracción de Datos Inmobiliarios en Lima-Perú\", no solo se propone compilar datos esenciales sobre bienes raíces, sino que aspira a proporcionar un producto final enriquecido con información adicional. La meta es desarrollar una plataforma completa que no solo proporcione información acerca de precios y ubicaciones, sino que también incluya datos sobre el entorno circundante, tales como la cantidad de parques, supermercados, hospitales y otros elementos."
   ]
  },
  {
   "cell_type": "markdown",
   "id": "c09a38e7",
   "metadata": {},
   "source": [
    "Para lograr esto tambien haremos uso de APIs, las cuales nos facilitarán la conexión y comunicación entre diferentes aplicaciones y servicios. Gracias a estas herramientas, podemos acceder fácilmente a funciones específicas sin tener que construir todo desde cero"
   ]
  },
  {
   "cell_type": "markdown",
   "id": "b945b7e1",
   "metadata": {},
   "source": [
    "<img src=\"img1.png\" alt=\"imagen1\" style=\"width:60%;\">"
   ]
  },
  {
   "cell_type": "markdown",
   "id": "82d25354",
   "metadata": {},
   "source": [
    "### <span style=\"color:#1557D1;\">PROPÓSITO</span><b>"
   ]
  },
  {
   "cell_type": "markdown",
   "id": "2d108d8c",
   "metadata": {},
   "source": [
    "Este proyecto está centrado en la recopilación, procesamiento e integración de datos relacionados con el mercado inmobiliario peruano con el fin de ofrecer una plataforma grande y detallada que sirva como una herramienta valiosa para diversos actores involucrados en el mercado."
   ]
  },
  {
   "cell_type": "markdown",
   "id": "9a5ea0b2",
   "metadata": {},
   "source": [
    "### <span style=\"color:#1557D1;\">OBJETIVOS</span><b>"
   ]
  },
  {
   "cell_type": "markdown",
   "id": "59730e0f",
   "metadata": {},
   "source": [
    "- Desarrollar una plataforma valiosa: Con técnicas avanzadas como web scraping y preprocesamiento de datos, para presentar una visión clara y objetiva del mercado inmobiliario en Lima.\n",
    "\n",
    "- Beneficiar a múltiples partes interesadas: El proyecto no solo tiene como objetivo informar, sino también empoderar a compradores, vendedores, agentes inmobiliarios y autoridades urbanísticas con información relevante y actualizada.\n",
    "\n",
    "- Fomentar la transparencia y toma de decisiones informada: Al proporcionar una fuente rica de datos, el proyecto busca mejorar la transparencia del mercado inmobiliario y facilitar la toma de decisiones basadas en datos sólidos."
   ]
  },
  {
   "cell_type": "markdown",
   "id": "48ff6d29",
   "metadata": {},
   "source": [
    "Utilizamos la siguiente página: https://www.laencontre.com.pe/venta/casas/lima-departamento/list. 'LaEncontré' es una página donde se realizan publicaciónes de bienes inmobiliarios en el Perú, en este caso realizamos la busqueda es en la provincia de Lima, filtrando las caracteristicas más importantes, las cuales son: precio, ubicación, área, cantidad de dormitorios y baños."
   ]
  },
  {
   "cell_type": "markdown",
   "id": "07f7bee8",
   "metadata": {},
   "source": [
    "##### Web scraping de las primeras 5 listas"
   ]
  },
  {
   "cell_type": "code",
   "execution_count": 1,
   "id": "3a21b874",
   "metadata": {},
   "outputs": [],
   "source": [
    "# Librerias\n",
    "import requests\n",
    "from bs4 import BeautifulSoup\n",
    "import pandas as pd"
   ]
  },
  {
   "cell_type": "markdown",
   "id": "d8fd46d6",
   "metadata": {},
   "source": [
    "Obteniendo los links:"
   ]
  },
  {
   "cell_type": "code",
   "execution_count": 2,
   "id": "641bf0d6",
   "metadata": {},
   "outputs": [],
   "source": [
    "# URL de la página principal\n",
    "url = \"https://www.laencontre.com.pe/venta/casas/lima-departamento/list\"\n",
    "\n",
    "# Realiza la solicitud GET a la URL y obtiene la respuesta\n",
    "response = requests.get(url)\n",
    "\n",
    "# Utiliza BeautifulSoup para analizar el contenido HTML de la página\n",
    "html = BeautifulSoup(response.content, 'html.parser')\n",
    "\n",
    "# Encuentra todos los enlaces que terminan en p_2, p_3, p_4 y p_5\n",
    "links = html.select(\"a.linkFilter[href$='p_2'], a.linkFilter[href$='p_3'],a.linkFilter[href$='p_4'], a.linkFilter[href$='p_5'],  a.linkFilter[href$='p_6']\")\n",
    "\n",
    "# Construye y agrega las URLs completas a una lista\n",
    "base_url = \"https://www.laencontre.com.pe\"\n",
    "complete_urls = [\"https://www.laencontre.com.pe/venta/casas/lima-departamento/list\"]\n",
    "\n",
    "for link in links:\n",
    "    # Obtiene el valor del atributo href de cada enlace\n",
    "    href_value = link.get('href')\n",
    "    \n",
    "    # Construye la URL completa concatenando la base_url con el valor de href\n",
    "    full_url = base_url + href_value\n",
    "    \n",
    "    # Agrega la URL completa a la lista\n",
    "    complete_urls.append(full_url)\n",
    "\n",
    "# Muestra la lista de URLs completas\n",
    "#print(complete_urls)"
   ]
  },
  {
   "cell_type": "markdown",
   "id": "31e4ede5",
   "metadata": {},
   "source": [
    "##### Proceso de web scraping para cada link"
   ]
  },
  {
   "cell_type": "code",
   "execution_count": 3,
   "id": "d0d660ca",
   "metadata": {},
   "outputs": [
    {
     "name": "stdout",
     "output_type": "stream",
     "text": [
      "Datos guardados correctamente en 'datos_inmobiliarios.xlsx' y 'datos_inmobiliarios.csv'\n"
     ]
    }
   ],
   "source": [
    "df = pd.DataFrame(columns=['Precios', 'Ubicaciones', 'Área', 'Dormitorios', 'Baños', 'Descripcion'])\n",
    "\n",
    "for link in complete_urls:\n",
    "    # Realizar una solicitud HTTP a la URL actual del bucle\n",
    "    page = requests.get(link)\n",
    "\n",
    "    # Verificar si la solicitud fue exitosa (código de estado 200)\n",
    "    if page.status_code == 200:\n",
    "        # Analizar el contenido HTML de la página usando BeautifulSoup\n",
    "        soup = BeautifulSoup(page.content, 'html.parser')\n",
    "\n",
    "        # Obtener los datos de la página actual\n",
    "        precios_list = [div.text.strip() for div in soup.find_all('div', attrs={\"class\": \"price\"})]\n",
    "        ubicaciones_list = [a.text.strip() if a.text.strip() else \"NA\" for a in soup.find_all('a', attrs={\"class\": \"detail-redirection\"})]\n",
    "        areas_list = [span.text.strip() if span.text.strip() else \"NA\" for span in soup.find_all('span', attrs={\"class\": \"areaBuilt\"})]\n",
    "        dormitorios_list = [span.text.strip() if span.text.strip() else \"NA\" for span in soup.find_all('span', attrs={\"class\": \"rooms\"})]\n",
    "        banos_list = [span.text.strip() if span.text.strip() else \"NA\" for span in soup.find_all('span', attrs={\"class\": \"bathrooms\"})]\n",
    "        descrip_list = [p.text.strip() if p.text.strip() else \"NA\" for p in soup.find_all('p', attrs={\"class\": \"description\"})]\n",
    "\n",
    "        # Obtener la longitud máxima entre todas las listas\n",
    "        max_length = max(len(precios_list), len(ubicaciones_list), len(areas_list), len(dormitorios_list), len(banos_list), len(descrip_list))\n",
    "\n",
    "        # Llenar las listas más cortas con \"NA\" hasta alcanzar la longitud máxima\n",
    "        precios_list += [\"NA\"] * (max_length - len(precios_list))\n",
    "        ubicaciones_list += [\"NA\"] * (max_length - len(ubicaciones_list))\n",
    "        areas_list += [\"NA\"] * (max_length - len(areas_list))\n",
    "        dormitorios_list += [\"NA\"] * (max_length - len(dormitorios_list))\n",
    "        banos_list += [\"NA\"] * (max_length - len(banos_list))\n",
    "        descrip_list += [\"NA\"] * (max_length - len(descrip_list))\n",
    "\n",
    "        # Crear un DataFrame temporal con los datos de la página actual\n",
    "        temp_df = pd.DataFrame({'Precios': precios_list,\n",
    "                                'Ubicaciones': ubicaciones_list,\n",
    "                                'Área': areas_list,\n",
    "                                'Dormitorios': dormitorios_list,\n",
    "                                'Baños': banos_list,\n",
    "                                'Descripcion': descrip_list})\n",
    "\n",
    "        # Agregar las filas del DataFrame temporal al DataFrame principal\n",
    "        df = pd.concat([df, temp_df], ignore_index=True)\n",
    "\n",
    "    else:\n",
    "        # Imprimir mensaje de error si la solicitud no fue exitosa\n",
    "        print(\"Error al acceder a la página. Código de estado:\", page.status_code)\n",
    "\n",
    "# Guardar el DataFrame en un archivo Excel y CSV\n",
    "df.to_excel('datos_inmobiliarios.xlsx', index=False)\n",
    "df.to_csv(\"datos_inmobiliarios.csv\", index=False, encoding='utf-8')\n",
    "\n",
    "# Imprimir mensaje de éxito\n",
    "print(\"Datos guardados correctamente en 'datos_inmobiliarios.xlsx' y 'datos_inmobiliarios.csv'\")\n"
   ]
  },
  {
   "cell_type": "code",
   "execution_count": 4,
   "id": "13ca0ac2",
   "metadata": {},
   "outputs": [],
   "source": [
    "df= pd.read_excel('datos_inmobiliarios.xlsx', sheet_name ='Sheet1')"
   ]
  },
  {
   "cell_type": "code",
   "execution_count": 5,
   "id": "f77e90cd",
   "metadata": {},
   "outputs": [
    {
     "data": {
      "text/html": [
       "<div>\n",
       "<style scoped>\n",
       "    .dataframe tbody tr th:only-of-type {\n",
       "        vertical-align: middle;\n",
       "    }\n",
       "\n",
       "    .dataframe tbody tr th {\n",
       "        vertical-align: top;\n",
       "    }\n",
       "\n",
       "    .dataframe thead th {\n",
       "        text-align: right;\n",
       "    }\n",
       "</style>\n",
       "<table border=\"1\" class=\"dataframe\">\n",
       "  <thead>\n",
       "    <tr style=\"text-align: right;\">\n",
       "      <th></th>\n",
       "      <th>Precios</th>\n",
       "      <th>Ubicaciones</th>\n",
       "      <th>Área</th>\n",
       "      <th>Dormitorios</th>\n",
       "      <th>Baños</th>\n",
       "      <th>Descripcion</th>\n",
       "    </tr>\n",
       "  </thead>\n",
       "  <tbody>\n",
       "    <tr>\n",
       "      <th>0</th>\n",
       "      <td>$ 350,000</td>\n",
       "      <td>Casa en  Pasaje Santa Rosa 865 Chaclacayo, Los...</td>\n",
       "      <td>300m2</td>\n",
       "      <td>4.0</td>\n",
       "      <td>4.0</td>\n",
       "      <td>A.T. : 300 m2, A.C. : 300 m2.\\nDos plantas, 13...</td>\n",
       "    </tr>\n",
       "    <tr>\n",
       "      <th>1</th>\n",
       "      <td>$ 930,000</td>\n",
       "      <td>Casa en  Calle Los Libertadores, San Isidro, Perú</td>\n",
       "      <td>300m2</td>\n",
       "      <td>3.0</td>\n",
       "      <td>3.0</td>\n",
       "      <td>A.T. : 300 m2, A.C. : 358 m2.\\nDos plantas, 23...</td>\n",
       "    </tr>\n",
       "    <tr>\n",
       "      <th>2</th>\n",
       "      <td>$ 750,000</td>\n",
       "      <td>Casa en  Av. Andrés Aramburú, San Isidro, Perú</td>\n",
       "      <td>360m2</td>\n",
       "      <td>3.0</td>\n",
       "      <td>2.0</td>\n",
       "      <td>A.T. : 360 m2, A.C. : 300 m2.\\nCasa como terre...</td>\n",
       "    </tr>\n",
       "    <tr>\n",
       "      <th>3</th>\n",
       "      <td>$ 387,188</td>\n",
       "      <td>Casa en  La Calera De La Merced, Surquillo, Perú</td>\n",
       "      <td>178m2</td>\n",
       "      <td>5.0</td>\n",
       "      <td>3.0</td>\n",
       "      <td>SURQUILLO, LA CALERA DE LA MERCED\\nVENTA DE CA...</td>\n",
       "    </tr>\n",
       "    <tr>\n",
       "      <th>4</th>\n",
       "      <td>$ 250,000</td>\n",
       "      <td>Casa en  Punta Corrientes, Cerro Azul, Perú</td>\n",
       "      <td>220m2</td>\n",
       "      <td>4.0</td>\n",
       "      <td>5.0</td>\n",
       "      <td>CASA DE PLAYA en CONDOMINIO PLAYA PUNTA CORRIE...</td>\n",
       "    </tr>\n",
       "  </tbody>\n",
       "</table>\n",
       "</div>"
      ],
      "text/plain": [
       "     Precios                                        Ubicaciones   Área  \\\n",
       "0  $ 350,000  Casa en  Pasaje Santa Rosa 865 Chaclacayo, Los...  300m2   \n",
       "1  $ 930,000  Casa en  Calle Los Libertadores, San Isidro, Perú  300m2   \n",
       "2  $ 750,000     Casa en  Av. Andrés Aramburú, San Isidro, Perú  360m2   \n",
       "3  $ 387,188   Casa en  La Calera De La Merced, Surquillo, Perú  178m2   \n",
       "4  $ 250,000        Casa en  Punta Corrientes, Cerro Azul, Perú  220m2   \n",
       "\n",
       "   Dormitorios  Baños                                        Descripcion  \n",
       "0          4.0    4.0  A.T. : 300 m2, A.C. : 300 m2.\\nDos plantas, 13...  \n",
       "1          3.0    3.0  A.T. : 300 m2, A.C. : 358 m2.\\nDos plantas, 23...  \n",
       "2          3.0    2.0  A.T. : 360 m2, A.C. : 300 m2.\\nCasa como terre...  \n",
       "3          5.0    3.0  SURQUILLO, LA CALERA DE LA MERCED\\nVENTA DE CA...  \n",
       "4          4.0    5.0  CASA DE PLAYA en CONDOMINIO PLAYA PUNTA CORRIE...  "
      ]
     },
     "execution_count": 5,
     "metadata": {},
     "output_type": "execute_result"
    }
   ],
   "source": [
    "df.head()"
   ]
  },
  {
   "cell_type": "code",
   "execution_count": null,
   "id": "2f6bf65d",
   "metadata": {},
   "outputs": [],
   "source": []
  },
  {
   "cell_type": "code",
   "execution_count": 31,
   "id": "13f6975a",
   "metadata": {},
   "outputs": [
    {
     "name": "stdout",
     "output_type": "stream",
     "text": [
      "Requirement already satisfied: pivottablejs in c:\\users\\comsa\\anaconda3\\lib\\site-packages (0.9.0)\n",
      "Note: you may need to restart the kernel to use updated packages.\n"
     ]
    }
   ],
   "source": [
    "#pip install pivottablejs"
   ]
  },
  {
   "cell_type": "code",
   "execution_count": 32,
   "id": "d0066772",
   "metadata": {},
   "outputs": [],
   "source": [
    "from pivottablejs import pivot_ui"
   ]
  },
  {
   "cell_type": "code",
   "execution_count": 50,
   "id": "6e47aa02",
   "metadata": {},
   "outputs": [
    {
     "data": {
      "text/html": [
       "\n",
       "        <iframe\n",
       "            width=\"100%\"\n",
       "            height=\"500\"\n",
       "            src=\"pivottablejs.html\"\n",
       "            frameborder=\"0\"\n",
       "            allowfullscreen\n",
       "            \n",
       "        ></iframe>\n",
       "        "
      ],
      "text/plain": [
       "<IPython.lib.display.IFrame at 0x2181d16e9a0>"
      ]
     },
     "execution_count": 50,
     "metadata": {},
     "output_type": "execute_result"
    }
   ],
   "source": [
    "pivot_ui(df_1)"
   ]
  },
  {
   "cell_type": "code",
   "execution_count": null,
   "id": "ecf4a621",
   "metadata": {},
   "outputs": [],
   "source": []
  }
 ],
 "metadata": {
  "kernelspec": {
   "display_name": "Python 3 (ipykernel)",
   "language": "python",
   "name": "python3"
  },
  "language_info": {
   "codemirror_mode": {
    "name": "ipython",
    "version": 3
   },
   "file_extension": ".py",
   "mimetype": "text/x-python",
   "name": "python",
   "nbconvert_exporter": "python",
   "pygments_lexer": "ipython3",
   "version": "3.9.12"
  }
 },
 "nbformat": 4,
 "nbformat_minor": 5
}
