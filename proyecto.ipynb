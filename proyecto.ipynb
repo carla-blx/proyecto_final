{
 "cells": [
  {
   "cell_type": "markdown",
   "id": "56ab196c",
   "metadata": {},
   "source": [
    "# <b><span style=\"color:#C21611;\">EXTRACCIÓN DE DATOS INMOBILIARIOS EN LIMA-PERÚ</span><b>"
   ]
  },
  {
   "cell_type": "markdown",
   "id": "cb5948a4",
   "metadata": {},
   "source": [
    "En el contexto dinámico del mercado inmobiliario en Lima, Perú, la búsqueda de información precisa y contextualizada se ha vuelto más crucial que nunca. Este proyecto, centrado en la \"Extracción de Datos Inmobiliarios en Lima-Perú\", no solo se propone compilar datos esenciales sobre bienes raíces, sino que aspira a proporcionar un producto final enriquecido con información adicional. La meta es desarrollar una plataforma completa que no solo proporcione información acerca de precios y ubicaciones, sino que también incluya datos sobre el entorno circundante, tales como la cantidad de parques, supermercados, hospitales y otros elementos fundamentales."
   ]
  },
  {
   "cell_type": "markdown",
   "id": "b945b7e1",
   "metadata": {},
   "source": [
    "<img src=\"img1.png\" alt=\"imagen1\" style=\"width:60%;\">"
   ]
  },
  {
   "cell_type": "markdown",
   "id": "82d25354",
   "metadata": {},
   "source": [
    "### <span style=\"color:#1557D1;\">PROPÓSITO</span><b>"
   ]
  },
  {
   "cell_type": "markdown",
   "id": "2d108d8c",
   "metadata": {},
   "source": [
    "Este proyecto está centrado en la recopilación, procesamiento e integración de datos relacionados con el mercado inmobiliario peruano con el fin de ofrecer una plataforma grande y detallada que sirva como una herramienta valiosa para diversos actores involucrados en el mercado."
   ]
  },
  {
   "cell_type": "markdown",
   "id": "9a5ea0b2",
   "metadata": {},
   "source": [
    "### <span style=\"color:#1557D1;\">OBJETIVOS</span><b>"
   ]
  },
  {
   "cell_type": "markdown",
   "id": "59730e0f",
   "metadata": {},
   "source": [
    "- Desarrollar una plataforma valiosa: Con técnicas avanzadas como web scraping y preprocesamiento de datos, para presentar una visión clara y objetiva del mercado inmobiliario en Lima.\n",
    "\n",
    "- Beneficiar a múltiples partes interesadas: El proyecto no solo tiene como objetivo informar, sino también empoderar a compradores, vendedores, agentes inmobiliarios y autoridades urbanísticas con información relevante y actualizada.\n",
    "\n",
    "- Fomentar la transparencia y toma de decisiones informada: Al proporcionar una fuente rica de datos, el proyecto busca mejorar la transparencia del mercado inmobiliario y facilitar la toma de decisiones basadas en datos sólidos."
   ]
  },
  {
   "cell_type": "markdown",
   "id": "48ff6d29",
   "metadata": {},
   "source": [
    "Utilizamos la siguiente página: https://www.laencontre.com.pe/venta/casas/lima-departamento/list. 'LaEncontré' es una página donde se realizan publicaciónes de bienes inmobiliarios en el Perú, en este caso realizamos la busqueda es en la provincia de Lima, filtrando las caracteristicas más importantes, las cuales son: precio, ubicación, área, cantidad de dormitorios y baños."
   ]
  },
  {
   "cell_type": "code",
   "execution_count": 1,
   "id": "3a21b874",
   "metadata": {},
   "outputs": [],
   "source": [
    "# Librerias\n",
    "import requests\n",
    "from bs4 import BeautifulSoup\n",
    "import pandas as pd"
   ]
  },
  {
   "cell_type": "code",
   "execution_count": 2,
   "id": "d0d660ca",
   "metadata": {},
   "outputs": [
    {
     "name": "stdout",
     "output_type": "stream",
     "text": [
      "Datos guardados correctamente en 'datos_inmobiliarios.xlsx'\n"
     ]
    }
   ],
   "source": [
    "# URL de la página web a scrapear\n",
    "url = \"https://www.laencontre.com.pe/venta/casas/lima-departamento/list\"\n",
    "\n",
    "# Realizar una solicitud GET a la URL\n",
    "response = requests.get(url)\n",
    "\n",
    "# Verificar si la solicitud fue exitosa (código de estado 200)\n",
    "if response.status_code == 200:\n",
    "    # Analizar el contenido HTML de la página usando BeautifulSoup\n",
    "    soup = BeautifulSoup(response.content, 'html.parser')\n",
    "\n",
    "    # Obtener la lista de precios\n",
    "    precios_list = [div.text.strip() for div in soup.find_all('div', attrs={\"class\": \"price\"})]\n",
    "    \n",
    "    # Obtener la lista de ubicaciones\n",
    "    ubicaciones_list = [a.text.strip() for a in soup.find_all('a', attrs={\"class\": \"detail-redirection\"})]\n",
    "    \n",
    "    # Obtener la lista de áreas\n",
    "    areas_list = [span.text.strip() for span in soup.find_all('span', attrs={\"class\": \"areaBuilt\"})]\n",
    "    \n",
    "    # Obtener la lista de dormitorios\n",
    "    dormitorios_list = [span.text.strip() for span in soup.find_all('span', attrs={\"class\": \"rooms\"})]\n",
    "    \n",
    "    # Obtener la lista de baños\n",
    "    banos_list = [span.text.strip() for span in soup.find_all('span', attrs={\"class\": \"bathrooms\"})]\n",
    "\n",
    "    # Obtener la lista de descripcion\n",
    "    descrip_list = [p.text.strip() for p in soup.find_all('p', attrs={\"class\": \"description\"})]\n",
    "\n",
    "    # Crear un DataFrame con las listas\n",
    "    data = {'Precios': precios_list, 'Ubicaciones': ubicaciones_list, 'Áreas': areas_list, 'Dormitorios': dormitorios_list, 'Baños': banos_list}\n",
    "    df = pd.DataFrame(data)\n",
    "\n",
    "    # Guardar el DataFrame en un archivo Excel\n",
    "    df.to_excel('datos_inmobiliarios.xlsx', index=False)\n",
    "\n",
    "    # Imprimir mensaje de éxito\n",
    "    print(\"Datos guardados correctamente en 'datos_inmobiliarios.xlsx'\")\n",
    "else:\n",
    "    # Imprimir mensaje de error si la solicitud no fue exitosa\n",
    "    print(\"Error al acceder a la página. Código de estado:\", response.status_code)\n"
   ]
  },
  {
   "cell_type": "code",
   "execution_count": null,
   "id": "1b257b44",
   "metadata": {},
   "outputs": [],
   "source": []
  }
 ],
 "metadata": {
  "kernelspec": {
   "display_name": "Python 3 (ipykernel)",
   "language": "python",
   "name": "python3"
  },
  "language_info": {
   "codemirror_mode": {
    "name": "ipython",
    "version": 3
   },
   "file_extension": ".py",
   "mimetype": "text/x-python",
   "name": "python",
   "nbconvert_exporter": "python",
   "pygments_lexer": "ipython3",
   "version": "3.9.12"
  }
 },
 "nbformat": 4,
 "nbformat_minor": 5
}
