{
 "cells": [
  {
   "cell_type": "markdown",
   "id": "56ab196c",
   "metadata": {},
   "source": [
    "# <b><span style=\"color:#C21611;\">EXTRACCIÓN DE DATOS INMOBILIARIOS EN LIMA-PERÚ</span><b>"
   ]
  },
  {
   "cell_type": "markdown",
   "id": "cb5948a4",
   "metadata": {},
   "source": [
    "En el contexto dinámico del mercado inmobiliario en Lima, Perú, la búsqueda de información precisa y contextualizada se ha vuelto más crucial que nunca. Este proyecto, centrado en la \"Extracción de Datos Inmobiliarios en Lima-Perú\", no solo se propone compilar datos esenciales sobre bienes raíces, sino que aspira a proporcionar un producto final enriquecido con información adicional. La meta es desarrollar una plataforma completa que no solo proporcione información acerca de precios y ubicaciones, sino que también incluya datos sobre el entorno circundante, tales como la cantidad de parques, supermercados, hospitales y otros elementos."
   ]
  },
  {
   "cell_type": "markdown",
   "id": "c09a38e7",
   "metadata": {},
   "source": [
    "Para lograr esto tambien haremos uso de APIs, las cuales nos facilitarán la conexión y comunicación entre diferentes aplicaciones y servicios. Gracias a estas herramientas, podemos acceder fácilmente a funciones específicas sin tener que construir todo desde cero"
   ]
  },
  {
   "cell_type": "markdown",
   "id": "b945b7e1",
   "metadata": {},
   "source": [
    "<img src=\"img1.png\" alt=\"imagen1\" style=\"width:60%;\">"
   ]
  },
  {
   "cell_type": "markdown",
   "id": "82d25354",
   "metadata": {},
   "source": [
    "### <span style=\"color:#1557D1;\">PROPÓSITO</span><b>"
   ]
  },
  {
   "cell_type": "markdown",
   "id": "2d108d8c",
   "metadata": {},
   "source": [
    "Este proyecto está centrado en la recopilación, procesamiento e integración de datos relacionados con el mercado inmobiliario peruano con el fin de ofrecer una plataforma grande y detallada que sirva como una herramienta valiosa para diversos actores involucrados en el mercado."
   ]
  },
  {
   "cell_type": "markdown",
   "id": "9a5ea0b2",
   "metadata": {},
   "source": [
    "### <span style=\"color:#1557D1;\">OBJETIVOS</span><b>"
   ]
  },
  {
   "cell_type": "markdown",
   "id": "59730e0f",
   "metadata": {},
   "source": [
    "- Desarrollar una plataforma valiosa: Con técnicas avanzadas como web scraping y preprocesamiento de datos, para presentar una visión clara y objetiva del mercado inmobiliario en Lima.\n",
    "\n",
    "- Beneficiar a múltiples partes interesadas: El proyecto no solo tiene como objetivo informar, sino también empoderar a compradores, vendedores, agentes inmobiliarios y autoridades urbanísticas con información relevante y actualizada.\n",
    "\n",
    "- Fomentar la transparencia y toma de decisiones informada: Al proporcionar una fuente rica de datos, el proyecto busca mejorar la transparencia del mercado inmobiliario y facilitar la toma de decisiones basadas en datos sólidos."
   ]
  },
  {
   "cell_type": "markdown",
   "id": "48ff6d29",
   "metadata": {},
   "source": [
    "Utilizamos la siguiente página: https://www.laencontre.com.pe/venta/casas/lima-departamento/list. 'LaEncontré' es una página donde se realizan publicaciónes de bienes inmobiliarios en el Perú, en este caso realizamos la busqueda es en la provincia de Lima, filtrando las caracteristicas más importantes, las cuales son: precio, ubicación, área, cantidad de dormitorios y baños."
   ]
  },
  {
   "cell_type": "markdown",
   "id": "07f7bee8",
   "metadata": {},
   "source": [
    "##  <span style=\"color:#01940E;\">Web scraping para obtener las primeras 990 casas</span>"
   ]
  },
  {
   "cell_type": "markdown",
   "id": "d8fd46d6",
   "metadata": {},
   "source": [
    "##### Obteniendo los links:"
   ]
  },
  {
   "cell_type": "code",
   "execution_count": 13,
   "id": "641bf0d6",
   "metadata": {},
   "outputs": [],
   "source": [
    "# Librerías\n",
    "import requests\n",
    "from bs4 import BeautifulSoup\n",
    "import pandas as pd\n",
    "\n",
    "base_url = \"https://www.laencontre.com.pe/venta/casas/lima-departamento/list\"\n",
    "links = [base_url] + [f\"{base_url}/p_{i}\" for i in range(2, 34)]"
   ]
  },
  {
   "cell_type": "markdown",
   "id": "31e4ede5",
   "metadata": {},
   "source": [
    "### <span style=\"color:#6D12AC;\">Proceso de web scraping para cada link</span>"
   ]
  },
  {
   "cell_type": "code",
   "execution_count": 14,
   "id": "d0d660ca",
   "metadata": {},
   "outputs": [
    {
     "name": "stdout",
     "output_type": "stream",
     "text": [
      "Datos guardados correctamente en el data frame\n"
     ]
    }
   ],
   "source": [
    "df = pd.DataFrame(columns=['Precio', 'Ubicacion', 'Área (m^2)', 'Dormitorios', 'Baños'])\n",
    "\n",
    "for link in links:\n",
    "    # Realizar una solicitud HTTP a la URL actual del bucle\n",
    "    page = requests.get(link)\n",
    "\n",
    "    # Verificar si la solicitud fue exitosa (código de estado 200)\n",
    "    if page.status_code == 200:\n",
    "        # Analizar el contenido HTML de la página usando BeautifulSoup\n",
    "        soup = BeautifulSoup(page.content, 'html.parser')\n",
    "\n",
    "        # Obtener los datos de la página actual\n",
    "        precios_list = [div.text.strip() for div in soup.find_all('div', attrs={\"class\": \"price\"})]\n",
    "        ubicaciones_list = [a.text.strip() if a.text.strip() else \"NA\" for a in soup.find_all('a', attrs={\"class\": \"detail-redirection\"})]\n",
    "        areas_list = [span.text.strip() if span.text.strip() else \"NA\" for span in soup.find_all('span', attrs={\"class\": \"areaBuilt\"})]\n",
    "        dormitorios_list = [span.text.strip() if span.text.strip() else \"NA\" for span in soup.find_all('span', attrs={\"class\": \"rooms\"})]\n",
    "        banos_list = [span.text.strip() if span.text.strip() else \"NA\" for span in soup.find_all('span', attrs={\"class\": \"bathrooms\"})]\n",
    "        \n",
    "        # Obtener la longitud máxima entre todas las listas\n",
    "        max_length = max(len(precios_list), len(ubicaciones_list), len(areas_list), len(dormitorios_list), len(banos_list))#, len(descrip_list))\n",
    "\n",
    "        # Llenar las listas más cortas con \"NA\" hasta alcanzar la longitud máxima\n",
    "        precios_list += [\"NA\"] * (max_length - len(precios_list))\n",
    "        ubicaciones_list += [\"NA\"] * (max_length - len(ubicaciones_list))\n",
    "        areas_list += [\"NA\"] * (max_length - len(areas_list))\n",
    "        dormitorios_list += [\"NA\"] * (max_length - len(dormitorios_list))\n",
    "        banos_list += [\"NA\"] * (max_length - len(banos_list))\n",
    "\n",
    "        # Crear un DataFrame temporal con los datos de la página actual\n",
    "        temp_df = pd.DataFrame({'Precio': precios_list,\n",
    "                                'Ubicacion': ubicaciones_list,\n",
    "                                'Área (m^2)': areas_list,\n",
    "                                'Dormitorios': dormitorios_list,\n",
    "                                'Baños': banos_list})\n",
    "\n",
    "        # Agregar las filas del DataFrame temporal al DataFrame principal\n",
    "        df = pd.concat([df, temp_df], ignore_index=True)\n",
    "\n",
    "    else:\n",
    "        # Imprimir mensaje de error si la solicitud no fue exitosa\n",
    "        print(\"Error al acceder a la página. Código de estado:\", page.status_code)\n",
    "\n",
    "# Imprimir mensaje de éxito\n",
    "print(\"Datos guardados correctamente en el data frame\")\n"
   ]
  },
  {
   "cell_type": "code",
   "execution_count": 16,
   "id": "f77e90cd",
   "metadata": {},
   "outputs": [
    {
     "data": {
      "text/html": [
       "<div>\n",
       "<style scoped>\n",
       "    .dataframe tbody tr th:only-of-type {\n",
       "        vertical-align: middle;\n",
       "    }\n",
       "\n",
       "    .dataframe tbody tr th {\n",
       "        vertical-align: top;\n",
       "    }\n",
       "\n",
       "    .dataframe thead th {\n",
       "        text-align: right;\n",
       "    }\n",
       "</style>\n",
       "<table border=\"1\" class=\"dataframe\">\n",
       "  <thead>\n",
       "    <tr style=\"text-align: right;\">\n",
       "      <th></th>\n",
       "      <th>Precio</th>\n",
       "      <th>Ubicacion</th>\n",
       "      <th>Área (m^2)</th>\n",
       "      <th>Dormitorios</th>\n",
       "      <th>Baños</th>\n",
       "    </tr>\n",
       "  </thead>\n",
       "  <tbody>\n",
       "    <tr>\n",
       "      <th>0</th>\n",
       "      <td>$ 112,000</td>\n",
       "      <td>Casa en  Unidad Vecinal Del Rimac, Lima, Perú</td>\n",
       "      <td>48m2</td>\n",
       "      <td>4</td>\n",
       "      <td>2</td>\n",
       "    </tr>\n",
       "    <tr>\n",
       "      <th>1</th>\n",
       "      <td>$ 850,000</td>\n",
       "      <td>Casa en  Urb Portada De La Planicie, La Molina...</td>\n",
       "      <td>618m2</td>\n",
       "      <td>7</td>\n",
       "      <td>6</td>\n",
       "    </tr>\n",
       "    <tr>\n",
       "      <th>2</th>\n",
       "      <td>$ 700,000</td>\n",
       "      <td>Casa en  Naplo, Pucusana, Perú</td>\n",
       "      <td>1,205m2</td>\n",
       "      <td>3</td>\n",
       "      <td>2</td>\n",
       "    </tr>\n",
       "    <tr>\n",
       "      <th>3</th>\n",
       "      <td>(Precio a consultar)\\n                \\n      ...</td>\n",
       "      <td>Casa en  Playa Las Totoritas, Cañete, Lima, Perú</td>\n",
       "      <td>250m2</td>\n",
       "      <td>4</td>\n",
       "      <td>5</td>\n",
       "    </tr>\n",
       "    <tr>\n",
       "      <th>4</th>\n",
       "      <td>(Precio a consultar)\\n                \\n      ...</td>\n",
       "      <td>Casa en  Mala, Cañete</td>\n",
       "      <td>200m2</td>\n",
       "      <td>7</td>\n",
       "      <td>7</td>\n",
       "    </tr>\n",
       "  </tbody>\n",
       "</table>\n",
       "</div>"
      ],
      "text/plain": [
       "                                              Precio  \\\n",
       "0                                          $ 112,000   \n",
       "1                                          $ 850,000   \n",
       "2                                          $ 700,000   \n",
       "3  (Precio a consultar)\\n                \\n      ...   \n",
       "4  (Precio a consultar)\\n                \\n      ...   \n",
       "\n",
       "                                           Ubicacion Área (m^2) Dormitorios  \\\n",
       "0      Casa en  Unidad Vecinal Del Rimac, Lima, Perú       48m2           4   \n",
       "1  Casa en  Urb Portada De La Planicie, La Molina...      618m2           7   \n",
       "2                     Casa en  Naplo, Pucusana, Perú    1,205m2           3   \n",
       "3   Casa en  Playa Las Totoritas, Cañete, Lima, Perú      250m2           4   \n",
       "4                              Casa en  Mala, Cañete      200m2           7   \n",
       "\n",
       "  Baños  \n",
       "0     2  \n",
       "1     6  \n",
       "2     2  \n",
       "3     5  \n",
       "4     7  "
      ]
     },
     "execution_count": 16,
     "metadata": {},
     "output_type": "execute_result"
    }
   ],
   "source": [
    "df.head()"
   ]
  },
  {
   "cell_type": "markdown",
   "id": "1415c6b2",
   "metadata": {},
   "source": [
    "### <span style=\"color:#6D12AC;\">Manipulación de datos</span>\n",
    "Vamos a transformar y preparar los datos para obtener información significativa. En esta sección, se llevará a cabo la limpieza y conversión de la algunas columnas asegurando la coherencia y calidad de los datos, preparándolos para análisis numérico y visualización."
   ]
  },
  {
   "cell_type": "markdown",
   "id": "5cb9b23b",
   "metadata": {},
   "source": [
    "##### Limpieza de columna 'Precio' y conversion a valores Numéricos con Tratamiento de Errores:"
   ]
  },
  {
   "cell_type": "code",
   "execution_count": 17,
   "id": "a3a39d1b",
   "metadata": {},
   "outputs": [],
   "source": [
    "def limpiar_monto(monto):\n",
    "    # Eliminar cualquier carácter no numérico al final del string\n",
    "    cleaned_monto = ''.join(filter(str.isdigit, monto))\n",
    "    return cleaned_monto\n",
    "\n",
    "# Aplicar la función a la columna 'monto'\n",
    "df['Precio'] = df['Precio'].apply(limpiar_monto)"
   ]
  },
  {
   "cell_type": "code",
   "execution_count": 18,
   "id": "a0af4fa3",
   "metadata": {},
   "outputs": [
    {
     "name": "stdout",
     "output_type": "stream",
     "text": [
      "<class 'numpy.float64'>\n"
     ]
    }
   ],
   "source": [
    "# Convertir a valor numerico\n",
    "df['Precio'] = pd.to_numeric(df['Precio'].replace('[\\$,]', '', regex=True), errors='coerce')\n",
    "print(type(df['Precio'][0]))"
   ]
  },
  {
   "cell_type": "markdown",
   "id": "5bfcc24f",
   "metadata": {},
   "source": [
    "##### Eliminar la subcadena \"Casa en \" de la columna 'Direccion'\n"
   ]
  },
  {
   "cell_type": "code",
   "execution_count": 19,
   "id": "b54242c0",
   "metadata": {},
   "outputs": [],
   "source": [
    "df['Ubicacion'] = df['Ubicacion'].str.replace('Casa en ', '').str.strip()"
   ]
  },
  {
   "cell_type": "code",
   "execution_count": 20,
   "id": "e9d104a4",
   "metadata": {},
   "outputs": [
    {
     "name": "stdout",
     "output_type": "stream",
     "text": [
      "Unidad Vecinal Del Rimac, Lima, Perú\n"
     ]
    }
   ],
   "source": [
    "print(df['Ubicacion'][0])"
   ]
  },
  {
   "cell_type": "markdown",
   "id": "531c9ca3",
   "metadata": {},
   "source": [
    "##### Conversión de 'Dormitorios' y 'Baños' a Valores Numéricos"
   ]
  },
  {
   "cell_type": "code",
   "execution_count": 21,
   "id": "cb5ee56c",
   "metadata": {},
   "outputs": [
    {
     "name": "stdout",
     "output_type": "stream",
     "text": [
      "<class 'numpy.int64'>\n",
      "<class 'numpy.int64'>\n"
     ]
    }
   ],
   "source": [
    "df['Dormitorios'] = pd.to_numeric(df['Dormitorios'], errors='coerce').astype('Int64')\n",
    "df['Baños'] = pd.to_numeric(df['Baños'], errors='coerce').astype('Int64')\n",
    "print(type(df['Dormitorios'][0]))\n",
    "print(type(df['Baños'][0]))"
   ]
  },
  {
   "cell_type": "markdown",
   "id": "11a0f4d6",
   "metadata": {},
   "source": [
    "#### Conversión de la columna Área a datos de tipo númerico"
   ]
  },
  {
   "cell_type": "code",
   "execution_count": 22,
   "id": "3dedcf2a",
   "metadata": {},
   "outputs": [
    {
     "data": {
      "text/plain": [
       "numpy.float64"
      ]
     },
     "execution_count": 22,
     "metadata": {},
     "output_type": "execute_result"
    }
   ],
   "source": [
    "# Utilizar str.extract con una expresión regular para extraer el número\n",
    "df['Área (m^2)'] = df['Área (m^2)'].str.replace(',', '').str.extract('(\\d+)')\n",
    "\n",
    "# Llenar los valores NaN con 0 (o con el valor que prefieras)\n",
    "df['Área (m^2)'] = df['Área (m^2)'].fillna(0).astype(float)\n",
    "type(df['Área (m^2)'][0])"
   ]
  },
  {
   "cell_type": "code",
   "execution_count": 23,
   "id": "81091347",
   "metadata": {},
   "outputs": [
    {
     "data": {
      "text/html": [
       "<div>\n",
       "<style scoped>\n",
       "    .dataframe tbody tr th:only-of-type {\n",
       "        vertical-align: middle;\n",
       "    }\n",
       "\n",
       "    .dataframe tbody tr th {\n",
       "        vertical-align: top;\n",
       "    }\n",
       "\n",
       "    .dataframe thead th {\n",
       "        text-align: right;\n",
       "    }\n",
       "</style>\n",
       "<table border=\"1\" class=\"dataframe\">\n",
       "  <thead>\n",
       "    <tr style=\"text-align: right;\">\n",
       "      <th></th>\n",
       "      <th>Precio</th>\n",
       "      <th>Ubicacion</th>\n",
       "      <th>Área (m^2)</th>\n",
       "      <th>Dormitorios</th>\n",
       "      <th>Baños</th>\n",
       "    </tr>\n",
       "  </thead>\n",
       "  <tbody>\n",
       "    <tr>\n",
       "      <th>0</th>\n",
       "      <td>112000.0</td>\n",
       "      <td>Unidad Vecinal Del Rimac, Lima, Perú</td>\n",
       "      <td>48.0</td>\n",
       "      <td>4</td>\n",
       "      <td>2</td>\n",
       "    </tr>\n",
       "    <tr>\n",
       "      <th>1</th>\n",
       "      <td>850000.0</td>\n",
       "      <td>Urb Portada De La Planicie, La Molina, Perú</td>\n",
       "      <td>618.0</td>\n",
       "      <td>7</td>\n",
       "      <td>6</td>\n",
       "    </tr>\n",
       "    <tr>\n",
       "      <th>2</th>\n",
       "      <td>700000.0</td>\n",
       "      <td>Naplo, Pucusana, Perú</td>\n",
       "      <td>1205.0</td>\n",
       "      <td>3</td>\n",
       "      <td>2</td>\n",
       "    </tr>\n",
       "    <tr>\n",
       "      <th>3</th>\n",
       "      <td>NaN</td>\n",
       "      <td>Playa Las Totoritas, Cañete, Lima, Perú</td>\n",
       "      <td>250.0</td>\n",
       "      <td>4</td>\n",
       "      <td>5</td>\n",
       "    </tr>\n",
       "    <tr>\n",
       "      <th>4</th>\n",
       "      <td>NaN</td>\n",
       "      <td>Mala, Cañete</td>\n",
       "      <td>200.0</td>\n",
       "      <td>7</td>\n",
       "      <td>7</td>\n",
       "    </tr>\n",
       "    <tr>\n",
       "      <th>...</th>\n",
       "      <td>...</td>\n",
       "      <td>...</td>\n",
       "      <td>...</td>\n",
       "      <td>...</td>\n",
       "      <td>...</td>\n",
       "    </tr>\n",
       "    <tr>\n",
       "      <th>985</th>\n",
       "      <td>790000.0</td>\n",
       "      <td>San Antonio, Lima</td>\n",
       "      <td>400.0</td>\n",
       "      <td>7</td>\n",
       "      <td>6</td>\n",
       "    </tr>\n",
       "    <tr>\n",
       "      <th>986</th>\n",
       "      <td>99000.0</td>\n",
       "      <td>Miguel Carcamo, San Juan De Lurigancho, Perú</td>\n",
       "      <td>140.0</td>\n",
       "      <td>3</td>\n",
       "      <td>3</td>\n",
       "    </tr>\n",
       "    <tr>\n",
       "      <th>987</th>\n",
       "      <td>280000.0</td>\n",
       "      <td>Juno 176, Ate, Perú</td>\n",
       "      <td>160.0</td>\n",
       "      <td>7</td>\n",
       "      <td>2</td>\n",
       "    </tr>\n",
       "    <tr>\n",
       "      <th>988</th>\n",
       "      <td>73500.0</td>\n",
       "      <td>Laderas De Pachacamac Lima Peru, Avenida Zarum...</td>\n",
       "      <td>120.0</td>\n",
       "      <td>3</td>\n",
       "      <td>2</td>\n",
       "    </tr>\n",
       "    <tr>\n",
       "      <th>989</th>\n",
       "      <td>199000.0</td>\n",
       "      <td>Pando, Lima</td>\n",
       "      <td>172.0</td>\n",
       "      <td>4</td>\n",
       "      <td>2</td>\n",
       "    </tr>\n",
       "  </tbody>\n",
       "</table>\n",
       "<p>990 rows × 5 columns</p>\n",
       "</div>"
      ],
      "text/plain": [
       "       Precio                                          Ubicacion  Área (m^2)  \\\n",
       "0    112000.0               Unidad Vecinal Del Rimac, Lima, Perú        48.0   \n",
       "1    850000.0        Urb Portada De La Planicie, La Molina, Perú       618.0   \n",
       "2    700000.0                              Naplo, Pucusana, Perú      1205.0   \n",
       "3         NaN            Playa Las Totoritas, Cañete, Lima, Perú       250.0   \n",
       "4         NaN                                       Mala, Cañete       200.0   \n",
       "..        ...                                                ...         ...   \n",
       "985  790000.0                                  San Antonio, Lima       400.0   \n",
       "986   99000.0       Miguel Carcamo, San Juan De Lurigancho, Perú       140.0   \n",
       "987  280000.0                                Juno 176, Ate, Perú       160.0   \n",
       "988   73500.0  Laderas De Pachacamac Lima Peru, Avenida Zarum...       120.0   \n",
       "989  199000.0                                        Pando, Lima       172.0   \n",
       "\n",
       "     Dormitorios  Baños  \n",
       "0              4      2  \n",
       "1              7      6  \n",
       "2              3      2  \n",
       "3              4      5  \n",
       "4              7      7  \n",
       "..           ...    ...  \n",
       "985            7      6  \n",
       "986            3      3  \n",
       "987            7      2  \n",
       "988            3      2  \n",
       "989            4      2  \n",
       "\n",
       "[990 rows x 5 columns]"
      ]
     },
     "execution_count": 23,
     "metadata": {},
     "output_type": "execute_result"
    }
   ],
   "source": [
    "df#.head()"
   ]
  },
  {
   "cell_type": "markdown",
   "id": "e466ec5c",
   "metadata": {},
   "source": [
    "### <span style=\"color:#01940E;\">API</span>"
   ]
  },
  {
   "cell_type": "markdown",
   "id": "78692bc5",
   "metadata": {},
   "source": [
    "Para realizar este proyecto usamos 2 Apis de geograficos:"
   ]
  },
  {
   "cell_type": "markdown",
   "id": "19a464d7",
   "metadata": {},
   "source": [
    "### <span style=\"color:#6D12AC;\">API \"HERE Geocoding API\":</span>"
   ]
  },
  {
   "cell_type": "markdown",
   "id": "0095563f",
   "metadata": {},
   "source": [
    "Proporciona servicios de geocodificación, lo que significa que ofrece la capacidad de convertir direcciones o descripciones de ubicaciones en coordenadas geográficas (latitud y longitud), y viceversa. En términos más simples, permite traducir información de ubicación entre formas legibles por humanos (como direcciones) y coordenadas geográficas que las aplicaciones informáticas pueden entender.\n",
    "\n",
    "Los posibles casos de uso para la \"HERE Geocoding API\" podrían incluir:\n",
    "\n",
    "1. **Búsqueda de Ubicaciones:** Permitir a los usuarios buscar ubicaciones específicas a través de descripciones de direcciones.\n",
    "\n",
    "2. **Visualización de Mapas:** Utilizar las coordenadas geográficas obtenidas para mostrar ubicaciones en mapas.\n",
    "\n",
    "3. **Rastreo de Rutas:** Planificación de rutas y navegación al convertir direcciones en coordenadas utilizables para la navegación.\n",
    "\n",
    "4. **Análisis de Datos Geográficos:** Aplicar análisis geográficos a datos basados en ubicación, como agrupación de puntos de interés.\n",
    "\n",
    "5. **Localización en Aplicaciones:** Mejorar la precisión de la localización en aplicaciones móviles o web mediante la conversión de direcciones en coordenadas.\n",
    "\n",
    "Para obtener detalles específicos sobre cómo utilizar la \"HERE Geocoding API\", se recomienda revisar la documentación oficial proporcionada por HERE: [Documentación HERE Geocoding API](https://www.here.com/docs/bundle/geocoder-api-developer-guide/page/topics/what-is.html). Esta documentación proporcionará información detallada sobre los endpoints disponibles, parámetros de solicitud y ejemplos de uso.\n",
    "\n",
    "<b><span style=\"color:red;\">*Nota:</span></b> Es importante tener en cuenta que la API HERE Geocoding, en su versión gratuita, presenta una limitación que restringe el número de solicitudes a 1000 por día. Esta restricción afecta la cantidad de consultas que se pueden realizar de forma gratuita en un periodo de 24 horas. Se recomienda considerar esta limitación al planificar el uso de la API y evaluar la necesidad de actualizar a una versión de pago si se requieren más solicitudes diarias."
   ]
  },
  {
   "cell_type": "markdown",
   "id": "a63b6039",
   "metadata": {},
   "source": [
    "##### Obteniendo distrito y coordenadas:"
   ]
  },
  {
   "cell_type": "code",
   "execution_count": 24,
   "id": "79661992",
   "metadata": {},
   "outputs": [],
   "source": [
    "api_key = \"ndKjgFv0TpRfYI94dlOd-hmOn-_-mMXnm4WfaunJyIA\"\n",
    "\n",
    "\n",
    "# Crear nuevas columnas en el DataFrame para almacenar la información extraída\n",
    "df['Distrito'] = \"\"\n",
    "df['Latitud'] = 0.0\n",
    "df['Longitud'] = 0.0\n",
    "\n",
    "# Iterar sobre las direcciones en la columna \"Ubicacion\"\n",
    "for index, row in df.iterrows():\n",
    "    direccion = row['Ubicacion']\n",
    "    \n",
    "    # Construir la URL con la dirección y la clave de la API\n",
    "    url = f\"https://geocode.search.hereapi.com/v1/geocode?q={direccion}&apiKey={api_key}\"\n",
    "    \n",
    "    # Hacer la solicitud API\n",
    "    response = requests.get(url)\n",
    "    \n",
    "    # Procesar la respuesta como desees\n",
    "    data = response.json()\n",
    "    \n",
    "    # Extraer la información relevante de la respuesta\n",
    "    if 'items' in data and data['items']:\n",
    "        item = data['items'][0]\n",
    "        city = item['address']['city']\n",
    "        lat = item['position']['lat']\n",
    "        lng = item['position']['lng']\n",
    "        \n",
    "        # Almacenar la información en el DataFrame\n",
    "        df.at[index, 'Distrito'] = city\n",
    "        df.at[index, 'Latitud'] = lat\n",
    "        df.at[index, 'Longitud'] = lng\n",
    "\n",
    "column_order = ['Precio', 'Ubicacion', 'Área (m^2)', 'Distrito','Dormitorios','Baños','Latitud','Longitud']\n",
    "df = df[column_order]"
   ]
  },
  {
   "cell_type": "code",
   "execution_count": 28,
   "id": "331241cf",
   "metadata": {},
   "outputs": [
    {
     "data": {
      "text/html": [
       "<div>\n",
       "<style scoped>\n",
       "    .dataframe tbody tr th:only-of-type {\n",
       "        vertical-align: middle;\n",
       "    }\n",
       "\n",
       "    .dataframe tbody tr th {\n",
       "        vertical-align: top;\n",
       "    }\n",
       "\n",
       "    .dataframe thead th {\n",
       "        text-align: right;\n",
       "    }\n",
       "</style>\n",
       "<table border=\"1\" class=\"dataframe\">\n",
       "  <thead>\n",
       "    <tr style=\"text-align: right;\">\n",
       "      <th></th>\n",
       "      <th>Precio</th>\n",
       "      <th>Ubicacion</th>\n",
       "      <th>Área (m^2)</th>\n",
       "      <th>Distrito</th>\n",
       "      <th>Dormitorios</th>\n",
       "      <th>Baños</th>\n",
       "      <th>Latitud</th>\n",
       "      <th>Longitud</th>\n",
       "    </tr>\n",
       "  </thead>\n",
       "  <tbody>\n",
       "    <tr>\n",
       "      <th>0</th>\n",
       "      <td>112000.0</td>\n",
       "      <td>Unidad Vecinal Del Rimac, Lima, Perú</td>\n",
       "      <td>48.0</td>\n",
       "      <td>Lima</td>\n",
       "      <td>4</td>\n",
       "      <td>2</td>\n",
       "      <td>-12.02985</td>\n",
       "      <td>-77.03478</td>\n",
       "    </tr>\n",
       "    <tr>\n",
       "      <th>1</th>\n",
       "      <td>850000.0</td>\n",
       "      <td>Urb Portada De La Planicie, La Molina, Perú</td>\n",
       "      <td>618.0</td>\n",
       "      <td>La Molina</td>\n",
       "      <td>7</td>\n",
       "      <td>6</td>\n",
       "      <td>-12.07833</td>\n",
       "      <td>-76.92146</td>\n",
       "    </tr>\n",
       "    <tr>\n",
       "      <th>2</th>\n",
       "      <td>700000.0</td>\n",
       "      <td>Naplo, Pucusana, Perú</td>\n",
       "      <td>1205.0</td>\n",
       "      <td>Pucusana</td>\n",
       "      <td>3</td>\n",
       "      <td>2</td>\n",
       "      <td>-12.47902</td>\n",
       "      <td>-76.79266</td>\n",
       "    </tr>\n",
       "    <tr>\n",
       "      <th>3</th>\n",
       "      <td>NaN</td>\n",
       "      <td>Playa Las Totoritas, Cañete, Lima, Perú</td>\n",
       "      <td>250.0</td>\n",
       "      <td>Mala</td>\n",
       "      <td>4</td>\n",
       "      <td>5</td>\n",
       "      <td>-12.68420</td>\n",
       "      <td>-76.65599</td>\n",
       "    </tr>\n",
       "    <tr>\n",
       "      <th>4</th>\n",
       "      <td>NaN</td>\n",
       "      <td>Mala, Cañete</td>\n",
       "      <td>200.0</td>\n",
       "      <td>Mala</td>\n",
       "      <td>7</td>\n",
       "      <td>7</td>\n",
       "      <td>-12.65566</td>\n",
       "      <td>-76.62969</td>\n",
       "    </tr>\n",
       "  </tbody>\n",
       "</table>\n",
       "</div>"
      ],
      "text/plain": [
       "     Precio                                    Ubicacion  Área (m^2)  \\\n",
       "0  112000.0         Unidad Vecinal Del Rimac, Lima, Perú        48.0   \n",
       "1  850000.0  Urb Portada De La Planicie, La Molina, Perú       618.0   \n",
       "2  700000.0                        Naplo, Pucusana, Perú      1205.0   \n",
       "3       NaN      Playa Las Totoritas, Cañete, Lima, Perú       250.0   \n",
       "4       NaN                                 Mala, Cañete       200.0   \n",
       "\n",
       "    Distrito  Dormitorios  Baños   Latitud  Longitud  \n",
       "0       Lima            4      2 -12.02985 -77.03478  \n",
       "1  La Molina            7      6 -12.07833 -76.92146  \n",
       "2   Pucusana            3      2 -12.47902 -76.79266  \n",
       "3       Mala            4      5 -12.68420 -76.65599  \n",
       "4       Mala            7      7 -12.65566 -76.62969  "
      ]
     },
     "execution_count": 28,
     "metadata": {},
     "output_type": "execute_result"
    }
   ],
   "source": [
    "df_c = df\n",
    "df.head()"
   ]
  },
  {
   "cell_type": "markdown",
   "id": "82009ccd",
   "metadata": {},
   "source": [
    "### <span style=\"color:#6D12AC;\">API “Overpass API”:</span>"
   ]
  },
  {
   "cell_type": "markdown",
   "id": "45535aad",
   "metadata": {},
   "source": [
    "Es una herramienta que proporciona acceso a datos geoespaciales almacenados en OpenStreetMap (OSM). OpenStreetMap es un proyecto colaborativo de mapeo en línea que recopila información geográfica de todo el mundo y la pone a disposición de manera gratuita. La \"Overpass API\" permite a los desarrolladores y usuarios realizar consultas específicas para extraer datos detallados de OSM.\n",
    "\n",
    "Algunos de los posibles casos de uso y aplicaciones de la \"Overpass API\" incluyen:\n",
    "\n",
    "1. **Recopilación de Datos Geoespaciales:** Permite a los usuarios extraer información detallada sobre objetos geográficos, como carreteras, edificios, parques, etc., desde la base de datos de OpenStreetMap.\n",
    "\n",
    "2. **Análisis de Datos:** Facilita la obtención de datos específicos para realizar análisis geoespaciales y generar estadísticas sobre características específicas del terreno.\n",
    "\n",
    "3. **Desarrollo de Mapas Personalizados:** Los desarrolladores pueden utilizar la \"Overpass API\" para obtener datos específicos y personalizar mapas según sus necesidades.\n",
    "\n",
    "4. **Planificación de Rutas:** Permite a las aplicaciones de navegación obtener información detallada sobre carreteras, calles y otros elementos geográficos para la planificación de rutas.\n",
    "\n",
    "5. **Visualización de Datos:** Ayuda en la visualización de datos geográficos específicos en aplicaciones y servicios web.\n",
    "\n",
    "Para utilizar la \"Overpass API\", los usuarios envían consultas específicas mediante un lenguaje de consulta llamado Overpass Query Language (Overpass QL). Estas consultas permiten filtrar y seleccionar datos específicos de la base de datos de OpenStreetMap.\n",
    "\n",
    "Es importante tener en cuenta que la \"Overpass API\" está diseñada principalmente para usuarios técnicos y desarrolladores familiarizados con la manipulación de datos geoespaciales y consultas API. Si estás interesado en utilizarla, te recomendaría revisar la documentación oficial de Overpass API para obtener detalles específicos y ejemplos de cómo realizar consultas: [Documentación Overpass API](https://wiki.openstreetmap.org/wiki/Overpass_API)."
   ]
  },
  {
   "cell_type": "code",
   "execution_count": 42,
   "id": "750d4526",
   "metadata": {},
   "outputs": [],
   "source": [
    "# Crear nuevas columnas en el DataFrame para almacenar la información extraída\n",
    "df['n° colegios (radio 1500m)'] = 0\n",
    "df['n° parques/areas verdes (radio 800m)'] = 0\n",
    "df['n° hospitales (radio 2000m)'] = 0\n",
    "df['n° restaurantes (radio 800m)'] = 0\n",
    "df['n° supermercados (radio 1000m)'] = 0\n",
    "df['n° gasolineras (radio 1000m)'] = 0\n",
    "\n",
    "for index, row in df.iterrows():\n",
    "    lat = row['Latitud']\n",
    "    long = row['Longitud']\n",
    "    \n",
    "    url_1 = f\"https://overpass-api.de/api/interpreter?data=[out:json];nwr(around:1500,{lat},{long})['amenity'='school'];out count;\"   \n",
    "    # Hacer la solicitud API\n",
    "    response_1 = requests.get(url_1)\n",
    "    data_1 = response_1.json()\n",
    "    nodes_col = int(data_1['elements'][0]['tags']['nodes'])\n",
    "    df.at[index,'n° colegios (radio 1500m)'] = nodes_col\n",
    "    \n",
    "    url_2 = f\"https://overpass-api.de/api/interpreter?data=[out:json];nwr(around:800,{lat},{long})['leisure'='park'];(._;>;);out count;\"   \n",
    "    # Hacer la solicitud API\n",
    "    response_2 = requests.get(url_2)\n",
    "    data_2 = response_2.json()\n",
    "    ways_par = int(data_2['elements'][0]['tags']['ways'])\n",
    "    df.at[index,'n° parques/areas verdes (radio 800m)'] = ways_par\n",
    "    \n",
    "    url_3 = f\"https://overpass-api.de/api/interpreter?data=[out:json];nwr(around:2000,{lat},{long})['amenity'='hospital'];(._;>;);out count;\"   \n",
    "    # Hacer la solicitud API\n",
    "    response_3 = requests.get(url_3)\n",
    "    data_3 = response_3.json()\n",
    "    ways_h = int(data_3['elements'][0]['tags']['ways'])\n",
    "    df.at[index,'n° hospitales (radio 2000m)'] = ways_h\n",
    "    \n",
    "    url_4 = f\" https://overpass-api.de/api/interpreter?data=[out:json];nwr(around:800,{lat},{long})['amenity'='restaurant'];(._;>;);out count;\"   \n",
    "    # Hacer la solicitud API\n",
    "    response_4 = requests.get(url_4)\n",
    "    data_4 = response_4.json()\n",
    "    nodes_r = int(data_4['elements'][0]['tags']['nodes'])\n",
    "    df.at[index,'n° restaurantes (radio 800m)'] = nodes_r\n",
    "\n",
    "    url_5 = f\"https://overpass-api.de/api/interpreter?data=[out:json];nwr(around:1000,{lat},{long})['shop'='supermarket'];out count;\"   \n",
    "    # Hacer la solicitud API\n",
    "    response_5 = requests.get(url_5)\n",
    "    data_5 = response_5.json()\n",
    "    total_s = int(data_5['elements'][0]['tags']['total'])\n",
    "    df.at[index,'n° supermercados (radio 1000m)'] = total_s\n",
    "\n",
    "    url_6 = f\"https://overpass-api.de/api/interpreter?data=[out:json];nwr(around:1000,{lat},{long})['amenity'='fuel'];(._;>;);out count;\"   \n",
    "    # Hacer la solicitud API\n",
    "    response_6 = requests.get(url_6)\n",
    "    data_6 = response_6.json()\n",
    "    ways_g = int(data_6['elements'][0]['tags']['total'])\n",
    "    df.at[index,'n° gasolineras (radio 1000m)'] = ways_g\n",
    "    "
   ]
  },
  {
   "cell_type": "code",
   "execution_count": 38,
   "id": "8c6fd946",
   "metadata": {},
   "outputs": [
    {
     "data": {
      "text/html": [
       "<div>\n",
       "<style scoped>\n",
       "    .dataframe tbody tr th:only-of-type {\n",
       "        vertical-align: middle;\n",
       "    }\n",
       "\n",
       "    .dataframe tbody tr th {\n",
       "        vertical-align: top;\n",
       "    }\n",
       "\n",
       "    .dataframe thead th {\n",
       "        text-align: right;\n",
       "    }\n",
       "</style>\n",
       "<table border=\"1\" class=\"dataframe\">\n",
       "  <thead>\n",
       "    <tr style=\"text-align: right;\">\n",
       "      <th></th>\n",
       "      <th>Precio</th>\n",
       "      <th>Ubicacion</th>\n",
       "      <th>Área (m^2)</th>\n",
       "      <th>Distrito</th>\n",
       "      <th>Dormitorios</th>\n",
       "      <th>Baños</th>\n",
       "      <th>Latitud</th>\n",
       "      <th>Longitud</th>\n",
       "      <th>n° colegios (radio 1500m)</th>\n",
       "      <th>n° parques/areas verdes (radio 800m)</th>\n",
       "      <th>n° hospitales (radio 2000m)</th>\n",
       "      <th>n° restaurantes (radio 800m)</th>\n",
       "      <th>n° supermercados (radio 1000m)</th>\n",
       "      <th>n° gasolineras (radio 1000m)</th>\n",
       "    </tr>\n",
       "  </thead>\n",
       "  <tbody>\n",
       "    <tr>\n",
       "      <th>0</th>\n",
       "      <td>112000.0</td>\n",
       "      <td>Unidad Vecinal Del Rimac, Lima, Perú</td>\n",
       "      <td>48.0</td>\n",
       "      <td>Lima</td>\n",
       "      <td>4</td>\n",
       "      <td>2</td>\n",
       "      <td>-12.02985</td>\n",
       "      <td>-77.03478</td>\n",
       "      <td>71</td>\n",
       "      <td>46</td>\n",
       "      <td>5</td>\n",
       "      <td>8</td>\n",
       "      <td>2</td>\n",
       "      <td>19</td>\n",
       "    </tr>\n",
       "    <tr>\n",
       "      <th>1</th>\n",
       "      <td>850000.0</td>\n",
       "      <td>Urb Portada De La Planicie, La Molina, Perú</td>\n",
       "      <td>618.0</td>\n",
       "      <td>La Molina</td>\n",
       "      <td>7</td>\n",
       "      <td>6</td>\n",
       "      <td>-12.07833</td>\n",
       "      <td>-76.92146</td>\n",
       "      <td>6</td>\n",
       "      <td>6</td>\n",
       "      <td>0</td>\n",
       "      <td>2</td>\n",
       "      <td>3</td>\n",
       "      <td>1</td>\n",
       "    </tr>\n",
       "    <tr>\n",
       "      <th>2</th>\n",
       "      <td>700000.0</td>\n",
       "      <td>Naplo, Pucusana, Perú</td>\n",
       "      <td>1205.0</td>\n",
       "      <td>Pucusana</td>\n",
       "      <td>3</td>\n",
       "      <td>2</td>\n",
       "      <td>-12.47902</td>\n",
       "      <td>-76.79266</td>\n",
       "      <td>14</td>\n",
       "      <td>3</td>\n",
       "      <td>0</td>\n",
       "      <td>0</td>\n",
       "      <td>0</td>\n",
       "      <td>1</td>\n",
       "    </tr>\n",
       "    <tr>\n",
       "      <th>3</th>\n",
       "      <td>NaN</td>\n",
       "      <td>Playa Las Totoritas, Cañete, Lima, Perú</td>\n",
       "      <td>250.0</td>\n",
       "      <td>Mala</td>\n",
       "      <td>4</td>\n",
       "      <td>5</td>\n",
       "      <td>-12.68420</td>\n",
       "      <td>-76.65599</td>\n",
       "      <td>0</td>\n",
       "      <td>0</td>\n",
       "      <td>0</td>\n",
       "      <td>25</td>\n",
       "      <td>0</td>\n",
       "      <td>5</td>\n",
       "    </tr>\n",
       "    <tr>\n",
       "      <th>4</th>\n",
       "      <td>NaN</td>\n",
       "      <td>Mala, Cañete</td>\n",
       "      <td>200.0</td>\n",
       "      <td>Mala</td>\n",
       "      <td>7</td>\n",
       "      <td>7</td>\n",
       "      <td>-12.65566</td>\n",
       "      <td>-76.62969</td>\n",
       "      <td>20</td>\n",
       "      <td>5</td>\n",
       "      <td>0</td>\n",
       "      <td>45</td>\n",
       "      <td>1</td>\n",
       "      <td>28</td>\n",
       "    </tr>\n",
       "  </tbody>\n",
       "</table>\n",
       "</div>"
      ],
      "text/plain": [
       "     Precio                                    Ubicacion  Área (m^2)  \\\n",
       "0  112000.0         Unidad Vecinal Del Rimac, Lima, Perú        48.0   \n",
       "1  850000.0  Urb Portada De La Planicie, La Molina, Perú       618.0   \n",
       "2  700000.0                        Naplo, Pucusana, Perú      1205.0   \n",
       "3       NaN      Playa Las Totoritas, Cañete, Lima, Perú       250.0   \n",
       "4       NaN                                 Mala, Cañete       200.0   \n",
       "\n",
       "    Distrito  Dormitorios  Baños   Latitud  Longitud  \\\n",
       "0       Lima            4      2 -12.02985 -77.03478   \n",
       "1  La Molina            7      6 -12.07833 -76.92146   \n",
       "2   Pucusana            3      2 -12.47902 -76.79266   \n",
       "3       Mala            4      5 -12.68420 -76.65599   \n",
       "4       Mala            7      7 -12.65566 -76.62969   \n",
       "\n",
       "   n° colegios (radio 1500m)  n° parques/areas verdes (radio 800m)  \\\n",
       "0                         71                                    46   \n",
       "1                          6                                     6   \n",
       "2                         14                                     3   \n",
       "3                          0                                     0   \n",
       "4                         20                                     5   \n",
       "\n",
       "   n° hospitales (radio 2000m)  n° restaurantes (radio 800m)  \\\n",
       "0                            5                             8   \n",
       "1                            0                             2   \n",
       "2                            0                             0   \n",
       "3                            0                            25   \n",
       "4                            0                            45   \n",
       "\n",
       "   n° supermercados (radio 1000m)  n° gasolineras (radio 1000m)  \n",
       "0                               2                            19  \n",
       "1                               3                             1  \n",
       "2                               0                             1  \n",
       "3                               0                             5  \n",
       "4                               1                            28  "
      ]
     },
     "execution_count": 38,
     "metadata": {},
     "output_type": "execute_result"
    }
   ],
   "source": [
    "df.head()"
   ]
  },
  {
   "cell_type": "markdown",
   "id": "67d1dacb",
   "metadata": {},
   "source": [
    "### <span style=\"color:#01940E;\"> Guardar el DataFrame en un archivo Excel y CSV"
   ]
  },
  {
   "cell_type": "code",
   "execution_count": 2,
   "id": "2f6bf65d",
   "metadata": {},
   "outputs": [],
   "source": [
    "df.to_excel('datos_inmobiliarios.xlsx', index=False)\n",
    "df.to_csv(\"datos_inmobiliarios.csv\", index=False, encoding='utf-8')"
   ]
  },
  {
   "cell_type": "markdown",
   "id": "3ec3b432",
   "metadata": {},
   "source": [
    "### <span style=\"color:#01940E;\">Visualizacion de la distribución Geográfica de Propiedades"
   ]
  },
  {
   "cell_type": "code",
   "execution_count": 2,
   "id": "2d62f1dd",
   "metadata": {},
   "outputs": [],
   "source": [
    "df_csv = pd.read_csv('datos_inmobiliarios.csv')"
   ]
  },
  {
   "cell_type": "code",
   "execution_count": 115,
   "id": "5338683e",
   "metadata": {},
   "outputs": [],
   "source": [
    "import folium\n",
    "\n",
    "# Crear un mapa centrado en la ubicación promedio\n",
    "mapa = folium.Map(location=[df_csv['Latitud'].mean(), df_csv['Longitud'].mean()], zoom_start=10)\n",
    "\n",
    "# Añadir marcadores al mapa\n",
    "for index, row in df_csv.iterrows():\n",
    "    folium.Marker([row['Latitud'], row['Longitud']], popup=row['Ubicacion']).add_to(mapa)\n",
    "\n",
    "# Mostrar el mapa\n",
    "mapa.save(\"mapa.html\")"
   ]
  },
  {
   "cell_type": "markdown",
   "id": "6bf1db0d",
   "metadata": {},
   "source": [
    "### <span style=\"color:#01940E;\">Creación de una tabla dinámica (Librerias Pandas y PivotTableJS)"
   ]
  },
  {
   "cell_type": "code",
   "execution_count": 1,
   "id": "081436c7",
   "metadata": {},
   "outputs": [],
   "source": [
    "# Librería\n",
    "import pandas as pd"
   ]
  },
  {
   "cell_type": "code",
   "execution_count": 21,
   "id": "13f6975a",
   "metadata": {},
   "outputs": [
    {
     "name": "stdout",
     "output_type": "stream",
     "text": [
      "Requirement already satisfied: pivottablejs in c:\\users\\comsa\\anaconda3\\lib\\site-packages (0.9.0)\n",
      "Note: you may need to restart the kernel to use updated packages.\n"
     ]
    }
   ],
   "source": [
    "pip install pivottablejs"
   ]
  },
  {
   "cell_type": "code",
   "execution_count": 44,
   "id": "d0066772",
   "metadata": {},
   "outputs": [],
   "source": [
    "# Libreria\n",
    "from pivottablejs import pivot_ui"
   ]
  },
  {
   "cell_type": "code",
   "execution_count": 45,
   "id": "13ca0ac2",
   "metadata": {},
   "outputs": [],
   "source": [
    "# Leer el archivo Excel\n",
    "df_1= pd.read_excel('datos_inmobiliarios.xlsx', sheet_name ='Sheet1')\n",
    "#eliminar filas con valores nulos\n",
    "df_1_clean = df_1.dropna()"
   ]
  },
  {
   "cell_type": "code",
   "execution_count": 46,
   "id": "6e47aa02",
   "metadata": {},
   "outputs": [
    {
     "data": {
      "text/html": [
       "\n",
       "        <iframe\n",
       "            width=\"100%\"\n",
       "            height=\"500\"\n",
       "            src=\"pivottablejs.html\"\n",
       "            frameborder=\"0\"\n",
       "            allowfullscreen\n",
       "            \n",
       "        ></iframe>\n",
       "        "
      ],
      "text/plain": [
       "<IPython.lib.display.IFrame at 0x2b461ec6070>"
      ]
     },
     "execution_count": 46,
     "metadata": {},
     "output_type": "execute_result"
    }
   ],
   "source": [
    "# Crear la tabla dinámica\n",
    "pivot_ui(df_1_clean)"
   ]
  },
  {
   "cell_type": "markdown",
   "id": "11614495",
   "metadata": {},
   "source": [
    "### <span style=\"color:#01940E;\">Visualización de Datos"
   ]
  },
  {
   "cell_type": "markdown",
   "id": "0fb0b86b",
   "metadata": {},
   "source": [
    "A continuación, se presentan algunos gráficos que proporcionan una representación visual de la información contenida en nuestros datos."
   ]
  },
  {
   "cell_type": "code",
   "execution_count": 3,
   "id": "273d6979",
   "metadata": {},
   "outputs": [],
   "source": [
    "import numpy as np\n",
    "import matplotlib.pyplot as plt\n",
    "import seaborn as sns"
   ]
  },
  {
   "cell_type": "code",
   "execution_count": 4,
   "id": "d0bace47",
   "metadata": {},
   "outputs": [
    {
     "data": {
      "image/png": "[encoded data removed]",
      "text/plain": [
       "<Figure size 720x432 with 1 Axes>"
      ]
     },
     "metadata": {
      "needs_background": "light"
     },
     "output_type": "display_data"
    }
   ],
   "source": [
    "# Gráfico de barras o circular: Distribución de dormitorios o baños\n",
    "plt.figure(figsize=(10, 6))\n",
    "sns.countplot(x='Dormitorios', data=df_csv, palette='viridis')\n",
    "plt.title('Distribución de Dormitorios')\n",
    "plt.xlabel('Número de Dormitorios')\n",
    "plt.ylabel('Cantidad')\n",
    "plt.show()\n"
   ]
  },
  {
   "cell_type": "code",
   "execution_count": 5,
   "id": "9d38e6f1",
   "metadata": {},
   "outputs": [
    {
     "name": "stderr",
     "output_type": "stream",
     "text": [
      "C:\\ProgramData\\Anaconda3\\lib\\site-packages\\seaborn\\categorical.py:253: FutureWarning: The default of observed=False is deprecated and will be changed to True in a future version of pandas. Pass observed=False to retain current behavior or observed=True to adopt the future default and silence this warning.\n",
      "  grouped_vals = vals.groupby(grouper)\n"
     ]
    },
    {
     "data": {
      "image/png": "[encoded data removed]",
      "text/plain": [
       "<Figure size 720x432 with 1 Axes>"
      ]
     },
     "metadata": {
      "needs_background": "light"
     },
     "output_type": "display_data"
    }
   ],
   "source": [
    "# Crear un rango de precios\n",
    "price_ranges = pd.cut(df_csv['Precio'], bins=[0, 500000, 1000000, 1500000, float('inf')], labels=['<500k', '500k-1M', '1M-1.5M', '>1.5M'])\n",
    "\n",
    "# Calcular frecuencias\n",
    "price_ranges_counts = price_ranges.value_counts()\n",
    "\n",
    "# Grafico de barras para la distribución de precios por rango\n",
    "plt.figure(figsize=(10, 6))\n",
    "sns.barplot(x=price_ranges_counts.index, y=price_ranges_counts, palette='pastel')\n",
    "plt.title('Distribución de Precios por Rango')\n",
    "plt.xlabel('Rango de Precio')\n",
    "plt.ylabel('Cantidad')\n",
    "plt.show()\n",
    "\n",
    "import warnings\n",
    "warnings.filterwarnings(\"ignore\", category=FutureWarning)"
   ]
  },
  {
   "cell_type": "code",
   "execution_count": 8,
   "id": "362f42d2",
   "metadata": {
    "scrolled": false
   },
   "outputs": [
    {
     "data": {
      "image/png": "[encoded data removed]",
      "text/plain": [
       "<Figure size 720x432 with 1 Axes>"
      ]
     },
     "metadata": {
      "needs_background": "light"
     },
     "output_type": "display_data"
    }
   ],
   "source": [
    "plt.figure(figsize=(10, 6))\n",
    "\n",
    "# Obtener los primeros 5 distritos con más datos\n",
    "distritos_top5_mas_datos = df_csv['Distrito'].value_counts().head(5).index\n",
    "\n",
    "# Filtrar el DataFrame para incluir solo los primeros 5 distritos con más datos\n",
    "df_top5_mas_datos = df_csv[df_csv['Distrito'].isin(distritos_top5_mas_datos)]\n",
    "\n",
    "# Crear el boxplot sin outliers\n",
    "sns.boxplot(x='Distrito', y='Precio', data=df_top5_mas_datos, showfliers=False)\n",
    "plt.title('Boxplot de Precios para los Primeros 5 Distritos con Más Datos (Sin Outliers)')\n",
    "\n",
    "# Desactivar la notación científica en el eje y\n",
    "plt.ticklabel_format(style='plain', axis='y')\n",
    "plt.locator_params(axis='y', nbins=20)\n",
    "\n",
    "plt.show()"
   ]
  },
  {
   "cell_type": "code",
   "execution_count": 7,
   "id": "86c3a2f8",
   "metadata": {},
   "outputs": [
    {
     "data": {
      "image/png": "[encoded data removed]",
      "text/plain": [
       "<Figure size 720x432 with 1 Axes>"
      ]
     },
     "metadata": {
      "needs_background": "light"
     },
     "output_type": "display_data"
    }
   ],
   "source": [
    "plt.figure(figsize=(10, 6))\n",
    "\n",
    "# Definir umbral como percentil 95 para 'Precio' y 'Área (m^2)'\n",
    "threshold_precio = np.percentile(df_csv['Precio'].dropna(), 95)\n",
    "threshold_area = np.percentile(df_csv['Área (m^2)'].dropna(), 95)\n",
    "\n",
    "# Filtrar datos eliminando outliers en 'Precio' y 'Área (m^2)'\n",
    "df_filtered = df_csv[(df_csv['Precio'] < threshold_precio) & (df_csv['Área (m^2)'] < threshold_area)]\n",
    "\n",
    "# Crear el gráfico con los datos filtrados\n",
    "plt.scatter(df_filtered['Área (m^2)'], df_filtered['Precio'], color='green', alpha=0.5)\n",
    "plt.title('Gráfico Comparativo de Precio vs Área (sin outliers)')\n",
    "plt.xlabel('Área (m^2)')\n",
    "plt.ylabel('Precio')\n",
    "\n",
    "# Desactivar la notación científica en el eje y\n",
    "plt.ticklabel_format(style='plain', axis='y')\n",
    "\n",
    "plt.show()"
   ]
  }
 ],
 "metadata": {
  "kernelspec": {
   "display_name": "Python 3 (ipykernel)",
   "language": "python",
   "name": "python3"
  },
  "language_info": {
   "codemirror_mode": {
    "name": "ipython",
    "version": 3
   },
   "file_extension": ".py",
   "mimetype": "text/x-python",
   "name": "python",
   "nbconvert_exporter": "python",
   "pygments_lexer": "ipython3",
   "version": "3.9.12"
  }
 },
 "nbformat": 4,
 "nbformat_minor": 5
}
