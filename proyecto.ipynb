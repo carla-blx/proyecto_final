{
 "cells": [
  {
   "cell_type": "markdown",
   "id": "56ab196c",
   "metadata": {},
   "source": [
    "# <b><span style=\"color:#C21611;\">EXTRACCIÓN DE DATOS INMOBILIARIOS EN LIMA-PERÚ</span><b>"
   ]
  },
  {
   "cell_type": "markdown",
   "id": "cb5948a4",
   "metadata": {},
   "source": [
    "En el contexto dinámico del mercado inmobiliario en Lima, Perú, la búsqueda de información precisa y contextualizada se ha vuelto más crucial que nunca. Este proyecto, centrado en la \"Extracción de Datos Inmobiliarios en Lima-Perú\", no solo se propone compilar datos esenciales sobre bienes raíces, sino que aspira a proporcionar un producto final enriquecido con información adicional. La meta es desarrollar una plataforma completa que no solo proporcione información acerca de precios y ubicaciones, sino que también incluya datos sobre el entorno circundante, tales como la cantidad de parques, supermercados, hospitales y otros elementos fundamentales."
   ]
  },
  {
   "cell_type": "markdown",
   "id": "b945b7e1",
   "metadata": {},
   "source": [
    "<img src=\"img1.png\" alt=\"imagen1\" style=\"width:60%;\">"
   ]
  },
  {
   "cell_type": "markdown",
   "id": "82d25354",
   "metadata": {},
   "source": [
    "### <span style=\"color:#1557D1;\">PROPÓSITO</span><b>"
   ]
  },
  {
   "cell_type": "markdown",
   "id": "2d108d8c",
   "metadata": {},
   "source": [
    "Este proyecto está centrado en la recopilación, procesamiento e integración de datos relacionados con el mercado inmobiliario peruano con el fin de ofrecer una plataforma grande y detallada que sirva como una herramienta valiosa para diversos actores involucrados en el mercado."
   ]
  },
  {
   "cell_type": "markdown",
   "id": "9a5ea0b2",
   "metadata": {},
   "source": [
    "### <span style=\"color:#1557D1;\">OBJETIVOS</span><b>"
   ]
  },
  {
   "cell_type": "markdown",
   "id": "59730e0f",
   "metadata": {},
   "source": [
    "- Desarrollar una plataforma valiosa: Con técnicas avanzadas como web scraping y preprocesamiento de datos, para presentar una visión clara y objetiva del mercado inmobiliario en Lima.\n",
    "\n",
    "- Beneficiar a múltiples partes interesadas: El proyecto no solo tiene como objetivo informar, sino también empoderar a compradores, vendedores, agentes inmobiliarios y autoridades urbanísticas con información relevante y actualizada.\n",
    "\n",
    "- Fomentar la transparencia y toma de decisiones informada: Al proporcionar una fuente rica de datos, el proyecto busca mejorar la transparencia del mercado inmobiliario y facilitar la toma de decisiones basadas en datos sólidos."
   ]
  },
  {
   "cell_type": "markdown",
   "id": "48ff6d29",
   "metadata": {},
   "source": [
    "Utilizamos la siguiente página: https://www.laencontre.com.pe/venta/casas/lima-departamento/list. 'LaEncontré' es una página donde se realizan publicaciónes de bienes inmobiliarios en el Perú, en este caso realizamos la busqueda es en la provincia de Lima, filtrando las caracteristicas más importantes, las cuales son: precio, ubicación, área, cantidad de dormitorios y baños."
   ]
  },
  {
   "cell_type": "code",
   "execution_count": 12,
   "id": "3a21b874",
   "metadata": {},
   "outputs": [],
   "source": [
    "# Librerias\n",
    "import requests\n",
    "from bs4 import BeautifulSoup\n",
    "import pandas as pd"
   ]
  },
  {
   "cell_type": "code",
   "execution_count": 30,
   "id": "d0d660ca",
   "metadata": {},
   "outputs": [
    {
     "name": "stdout",
     "output_type": "stream",
     "text": [
      "Datos guardados correctamente en 'datos_inmobiliarios.xlsx'\n"
     ]
    }
   ],
   "source": [
    "# URL de la página web a scrapear\n",
    "url = \"https://www.laencontre.com.pe/venta/casas/lima-departamento/list\"\n",
    "\n",
    "# Realizar una solicitud GET a la URL\n",
    "response = requests.get(url)\n",
    "\n",
    "# Verificar si la solicitud fue exitosa (código de estado 200)\n",
    "if response.status_code == 200:\n",
    "    # Analizar el contenido HTML de la página usando BeautifulSoup\n",
    "    soup = BeautifulSoup(response.content, 'html.parser')\n",
    "\n",
    "    # Obtener la lista de precios\n",
    "    precios_list = [div.text.strip() for div in soup.find_all('div', attrs={\"class\": \"price\"})]\n",
    "    \n",
    "    # Obtener la lista de ubicaciones\n",
    "    ubicaciones_list = [a.text.strip() for a in soup.find_all('a', attrs={\"class\": \"detail-redirection\"})]\n",
    "    \n",
    "    # Obtener la lista de áreas\n",
    "    areas_list = [span.text.strip() for span in soup.find_all('span', attrs={\"class\": \"areaBuilt\"})]\n",
    "    \n",
    "    # Obtener la lista de dormitorios\n",
    "    dormitorios_list = [span.text.strip() for span in soup.find_all('span', attrs={\"class\": \"rooms\"})]\n",
    "    \n",
    "    # Obtener la lista de baños\n",
    "    banos_list = [span.text.strip() for span in soup.find_all('span', attrs={\"class\": \"bathrooms\"})]\n",
    "\n",
    "    # Obtener la lista de descripcion\n",
    "    descrip_list = [p.text.strip() for p in soup.find_all('p', attrs={\"class\": \"description\"})]\n",
    "\n",
    "    # Crear un DataFrame con las listas\n",
    "    data = {'Precios': precios_list, 'Ubicaciones': ubicaciones_list, 'Áreas': areas_list, 'Dormitorios': dormitorios_list, 'Baños': banos_list\n",
    "          ,'Descripcion':descrip_list }\n",
    "    df = pd.DataFrame(data)\n",
    "\n",
    "    # Guardar el DataFrame en un archivo Excel\n",
    "    df.to_excel('datos_inmobiliarios.xlsx', index=False)\n",
    "\n",
    "    # Imprimir mensaje de éxito\n",
    "    print(\"Datos guardados correctamente en 'datos_inmobiliarios.xlsx'\")\n",
    "else:\n",
    "    # Imprimir mensaje de error si la solicitud no fue exitosa\n",
    "    print(\"Error al acceder a la página. Código de estado:\", response.status_code)\n"
   ]
  },
  {
   "cell_type": "code",
   "execution_count": 31,
   "id": "45b035fc",
   "metadata": {},
   "outputs": [
    {
     "name": "stdout",
     "output_type": "stream",
     "text": [
      "Requirement already satisfied: pivottablejs in c:\\users\\comsa\\anaconda3\\lib\\site-packages (0.9.0)\n",
      "Note: you may need to restart the kernel to use updated packages.\n"
     ]
    }
   ],
   "source": [
    "pip install pivottablejs"
   ]
  },
  {
   "cell_type": "code",
   "execution_count": 32,
   "id": "173f5026",
   "metadata": {},
   "outputs": [],
   "source": [
    "from pivottablejs import pivot_ui"
   ]
  },
  {
   "cell_type": "code",
   "execution_count": 36,
   "id": "4be927da",
   "metadata": {},
   "outputs": [
    {
     "data": {
      "text/plain": [
       "30"
      ]
     },
     "execution_count": 36,
     "metadata": {},
     "output_type": "execute_result"
    }
   ],
   "source": [
    "df= pd.read_excel('datos_inmobiliarios.xlsx', sheet_name ='Sheet1', )\n",
    "len(df)"
   ]
  },
  {
   "cell_type": "code",
   "execution_count": 34,
   "id": "f2567630",
   "metadata": {},
   "outputs": [
    {
     "data": {
      "text/html": [
       "<div>\n",
       "<style scoped>\n",
       "    .dataframe tbody tr th:only-of-type {\n",
       "        vertical-align: middle;\n",
       "    }\n",
       "\n",
       "    .dataframe tbody tr th {\n",
       "        vertical-align: top;\n",
       "    }\n",
       "\n",
       "    .dataframe thead th {\n",
       "        text-align: right;\n",
       "    }\n",
       "</style>\n",
       "<table border=\"1\" class=\"dataframe\">\n",
       "  <thead>\n",
       "    <tr style=\"text-align: right;\">\n",
       "      <th></th>\n",
       "      <th>Precios</th>\n",
       "      <th>Ubicaciones</th>\n",
       "      <th>Áreas</th>\n",
       "      <th>Dormitorios</th>\n",
       "      <th>Baños</th>\n",
       "      <th>Descripcion</th>\n",
       "    </tr>\n",
       "  </thead>\n",
       "  <tbody>\n",
       "    <tr>\n",
       "      <th>0</th>\n",
       "      <td>$ 930,000</td>\n",
       "      <td>Casa en  Calle Los Libertadores, San Isidro, Perú</td>\n",
       "      <td>300m2</td>\n",
       "      <td>3</td>\n",
       "      <td>3</td>\n",
       "      <td>A.T. : 300 m2, A.C. : 358 m2.\\nDos plantas, 23...</td>\n",
       "    </tr>\n",
       "    <tr>\n",
       "      <th>1</th>\n",
       "      <td>$ 750,000</td>\n",
       "      <td>Casa en  Av. Andrés Aramburú, San Isidro, Perú</td>\n",
       "      <td>360m2</td>\n",
       "      <td>3</td>\n",
       "      <td>2</td>\n",
       "      <td>A.T. : 360 m2, A.C. : 300 m2.\\nCasa como terre...</td>\n",
       "    </tr>\n",
       "    <tr>\n",
       "      <th>2</th>\n",
       "      <td>$ 350,000</td>\n",
       "      <td>Casa en  Pasaje Santa Rosa 865 Chaclacayo, Los...</td>\n",
       "      <td>300m2</td>\n",
       "      <td>4</td>\n",
       "      <td>4</td>\n",
       "      <td>A.T. : 300 m2, A.C. : 300 m2.\\nDos plantas, 13...</td>\n",
       "    </tr>\n",
       "    <tr>\n",
       "      <th>3</th>\n",
       "      <td>$ 1,250,000</td>\n",
       "      <td>Casa en  La Planicie, La Molina, Perú</td>\n",
       "      <td>1,790m2</td>\n",
       "      <td>4</td>\n",
       "      <td>8</td>\n",
       "      <td>Elegante y amplia residencia moderna, 13 años ...</td>\n",
       "    </tr>\n",
       "    <tr>\n",
       "      <th>4</th>\n",
       "      <td>$ 387,188</td>\n",
       "      <td>Casa en  La Calera De La Merced, Surquillo, Perú</td>\n",
       "      <td>178m2</td>\n",
       "      <td>5</td>\n",
       "      <td>3</td>\n",
       "      <td>SURQUILLO, LA CALERA DE LA MERCED\\nVENTA DE CA...</td>\n",
       "    </tr>\n",
       "  </tbody>\n",
       "</table>\n",
       "</div>"
      ],
      "text/plain": [
       "       Precios                                        Ubicaciones    Áreas  \\\n",
       "0    $ 930,000  Casa en  Calle Los Libertadores, San Isidro, Perú    300m2   \n",
       "1    $ 750,000     Casa en  Av. Andrés Aramburú, San Isidro, Perú    360m2   \n",
       "2    $ 350,000  Casa en  Pasaje Santa Rosa 865 Chaclacayo, Los...    300m2   \n",
       "3  $ 1,250,000              Casa en  La Planicie, La Molina, Perú  1,790m2   \n",
       "4    $ 387,188   Casa en  La Calera De La Merced, Surquillo, Perú    178m2   \n",
       "\n",
       "   Dormitorios  Baños                                        Descripcion  \n",
       "0            3      3  A.T. : 300 m2, A.C. : 358 m2.\\nDos plantas, 23...  \n",
       "1            3      2  A.T. : 360 m2, A.C. : 300 m2.\\nCasa como terre...  \n",
       "2            4      4  A.T. : 300 m2, A.C. : 300 m2.\\nDos plantas, 13...  \n",
       "3            4      8  Elegante y amplia residencia moderna, 13 años ...  \n",
       "4            5      3  SURQUILLO, LA CALERA DE LA MERCED\\nVENTA DE CA...  "
      ]
     },
     "execution_count": 34,
     "metadata": {},
     "output_type": "execute_result"
    }
   ],
   "source": [
    "df.head()"
   ]
  },
  {
   "cell_type": "code",
   "execution_count": 35,
   "id": "c8383997",
   "metadata": {},
   "outputs": [
    {
     "data": {
      "text/html": [
       "\n",
       "        <iframe\n",
       "            width=\"100%\"\n",
       "            height=\"500\"\n",
       "            src=\"pivottablejs.html\"\n",
       "            frameborder=\"0\"\n",
       "            allowfullscreen\n",
       "            \n",
       "        ></iframe>\n",
       "        "
      ],
      "text/plain": [
       "<IPython.lib.display.IFrame at 0x2181d1a7e20>"
      ]
     },
     "execution_count": 35,
     "metadata": {},
     "output_type": "execute_result"
    }
   ],
   "source": [
    "pivot_ui(df)"
   ]
  },
  {
   "cell_type": "code",
   "execution_count": null,
   "id": "4d846763",
   "metadata": {},
   "outputs": [],
   "source": []
  }
 ],
 "metadata": {
  "kernelspec": {
   "display_name": "Python 3 (ipykernel)",
   "language": "python",
   "name": "python3"
  },
  "language_info": {
   "codemirror_mode": {
    "name": "ipython",
    "version": 3
   },
   "file_extension": ".py",
   "mimetype": "text/x-python",
   "name": "python",
   "nbconvert_exporter": "python",
   "pygments_lexer": "ipython3",
   "version": "3.9.12"
  }
 },
 "nbformat": 4,
 "nbformat_minor": 5
}
